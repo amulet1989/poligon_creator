{
 "cells": [
  {
   "cell_type": "code",
   "execution_count": 2,
   "metadata": {},
   "outputs": [],
   "source": [
    "from src.utils import convertir_coord"
   ]
  },
  {
   "cell_type": "code",
   "execution_count": 12,
   "metadata": {},
   "outputs": [
    {
     "name": "stdout",
     "output_type": "stream",
     "text": [
      "Coordenadas en metros (8.282828282828284, 6.0606060606060606)\n",
      "Coordenadas en pxl (738, 540)\n"
     ]
    }
   ],
   "source": [
    "coord_in=(738, 484)\n",
    "coord_m, coord=convertir_coord(coord_in[0], coord_in[1])\n",
    "print(\"Coordenadas en metros\",coord_m)\n",
    "print(\"Coordenadas en pxl\",coord)"
   ]
  }
 ],
 "metadata": {
  "kernelspec": {
   "display_name": "poligons",
   "language": "python",
   "name": "python3"
  },
  "language_info": {
   "codemirror_mode": {
    "name": "ipython",
    "version": 3
   },
   "file_extension": ".py",
   "mimetype": "text/x-python",
   "name": "python",
   "nbconvert_exporter": "python",
   "pygments_lexer": "ipython3",
   "version": "3.12.5"
  }
 },
 "nbformat": 4,
 "nbformat_minor": 2
}
